{
 "cells": [
  {
   "cell_type": "code",
   "execution_count": 40,
   "metadata": {},
   "outputs": [],
   "source": [
    "from selenium import webdriver\n",
    "from selenium.webdriver.common.keys import Keys\n",
    "from tqdm import tqdm_notebook\n",
    "import time\n",
    "import random"
   ]
  },
  {
   "cell_type": "code",
   "execution_count": 41,
   "metadata": {},
   "outputs": [],
   "source": [
    "SEARCH_BAR = '_58al'\n",
    "ALL_POSTS = '_1yt'\n",
    "ONE_POST = '_5bl2 _3u1 _41je _440e _87m1'\n",
    "DELETE_SEARCH_BUTTON = 'img sp_dFZkmnbJUz3 sx_8c82d5'"
   ]
  },
  {
   "cell_type": "code",
   "execution_count": 42,
   "metadata": {},
   "outputs": [],
   "source": [
    "def sleep(secs):\n",
    "    noise = abs(random.gauss(mu=0, sigma=0.1))\n",
    "    return time.sleep(secs + noise)\n",
    "\n",
    "def save_confession(num, element):\n",
    "    text = elem.get_attribute('innerHTML')\n",
    "    with open('./confessions/{}.html'.format(num), 'w') as f:\n",
    "        f.write(text)\n"
   ]
  },
  {
   "cell_type": "code",
   "execution_count": 97,
   "metadata": {},
   "outputs": [
    {
     "data": {
      "application/vnd.jupyter.widget-view+json": {
       "model_id": "244c9ec219f74c67b1ae061ab8140fc9",
       "version_major": 2,
       "version_minor": 0
      },
      "text/plain": [
       "HBox(children=(IntProgress(value=0, max=9781), HTML(value='')))"
      ]
     },
     "metadata": {},
     "output_type": "display_data"
    },
    {
     "name": "stdout",
     "output_type": "stream",
     "text": [
      "can't find 520\n"
     ]
    }
   ],
   "source": [
    "driver = webdriver.Chrome('/usr/local/lib/python3.6/dist-packages/selenium/webdriver/chrome/chromedriver')\n",
    "driver.get('https://www.facebook.com/pg/HUJI-Confessions-30-319628048886469/posts/?ref=page_internal')\n",
    "\n",
    "prev = ''\n",
    "\n",
    "for num in tqdm(range(600, 10301)):\n",
    "    save_it = False\n",
    "    \n",
    "    try:\n",
    "        elem = driver.find_element_by_class_name(SEARCH_BAR)\n",
    "        for _ in range(6):\n",
    "            elem.send_keys(Keys.BACKSPACE)\n",
    "        elem.send_keys(str(num) + '#')\n",
    "        elem.send_keys(Keys.RETURN)\n",
    "\n",
    "        for _ in range(110):\n",
    "            sleep(.1)\n",
    "            try:\n",
    "                elem = driver.find_element_by_class_name(ALL_POSTS)\n",
    "                if elem == prev:\n",
    "                    continue\n",
    "                prev = elem\n",
    "                save_it = True\n",
    "                break\n",
    "            except:\n",
    "                break\n",
    "\n",
    "\n",
    "        if save_it:\n",
    "            save_confession(num, elem)\n",
    "        else:\n",
    "            print('can\\'t find {}'.format(num))\n",
    "    except:\n",
    "        pass\n",
    "    \n",
    "        \n"
   ]
  },
  {
   "cell_type": "code",
   "execution_count": 95,
   "metadata": {},
   "outputs": [
    {
     "data": {
      "text/plain": [
       "19.829337280872895"
      ]
     },
     "execution_count": 95,
     "metadata": {},
     "output_type": "execute_result"
    }
   ],
   "source": [
    "sum([abs(random.gauss(mu=0, sigma=0.1)) + .1 for i in range(110)])"
   ]
  },
  {
   "cell_type": "code",
   "execution_count": null,
   "metadata": {},
   "outputs": [],
   "source": []
  }
 ],
 "metadata": {
  "kernelspec": {
   "display_name": "Python 3.6",
   "language": "python",
   "name": "python3.6"
  },
  "language_info": {
   "codemirror_mode": {
    "name": "ipython",
    "version": 3
   },
   "file_extension": ".py",
   "mimetype": "text/x-python",
   "name": "python",
   "nbconvert_exporter": "python",
   "pygments_lexer": "ipython3",
   "version": "3.6.8"
  }
 },
 "nbformat": 4,
 "nbformat_minor": 2
}
